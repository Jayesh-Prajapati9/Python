{
 "cells": [
  {
   "cell_type": "code",
   "execution_count": 3,
   "metadata": {},
   "outputs": [
    {
     "name": "stdout",
     "output_type": "stream",
     "text": [
      "['banana']\n",
      "['set', 'tuple', 'list']\n"
     ]
    }
   ],
   "source": [
    "class wordplay:\n",
    "    def __init__(self,l):\n",
    "      self.l=l\n",
    "    def only(self,str):\n",
    "        self.final=list()\n",
    "        for i in self.l:\n",
    "            for j in i:\n",
    "                if j in str:\n",
    "                    continue\n",
    "                else:\n",
    "                    break\n",
    "            else:\n",
    "                self.final.append(i)\n",
    "        return self.final    \n",
    "    def avoid(self,str):\n",
    "        self.final1=list()\n",
    "        for i in self.l:\n",
    "            for j in i:\n",
    "                if j not in str:\n",
    "                    continue\n",
    "                else:\n",
    "                    break\n",
    "            else:\n",
    "                self.final1.append(i)\n",
    "        return self.final1\n",
    "\n",
    "l= ['apple', 'banana', 'find', 'dictionary', 'set', 'tuple', 'list', 'malayalam', 'nayan', 'grind', 'apricot']\n",
    "w1=wordplay(l)\n",
    "print(w1.only(\"bna\"))\n",
    "print(w1.avoid(\"amkd\"))"
   ]
  }
 ],
 "metadata": {
  "kernelspec": {
   "display_name": "Python 3",
   "language": "python",
   "name": "python3"
  },
  "language_info": {
   "codemirror_mode": {
    "name": "ipython",
    "version": 3
   },
   "file_extension": ".py",
   "mimetype": "text/x-python",
   "name": "python",
   "nbconvert_exporter": "python",
   "pygments_lexer": "ipython3",
   "version": "3.8.5"
  }
 },
 "nbformat": 4,
 "nbformat_minor": 4
}
